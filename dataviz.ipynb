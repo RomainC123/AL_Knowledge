{
 "cells": [
  {
   "cell_type": "code",
   "execution_count": 1,
   "id": "d9e8094d",
   "metadata": {},
   "outputs": [],
   "source": [
    "import pandas as pd\n",
    "import os\n",
    "import matplotlib.pyplot as plt\n",
    "import seaborn as sns\n",
    "\n",
    "from nltk import ngrams\n",
    "from wordcloud import WordCloud\n",
    "from collections import Counter\n",
    "\n",
    "from src.constants import *"
   ]
  },
  {
   "cell_type": "code",
   "execution_count": 2,
   "id": "0e1c636c",
   "metadata": {},
   "outputs": [],
   "source": [
    "with open(os.path.join(DATA_PATH, \"2021AB_SN\", \"SG\"), \"r\") as f:\n",
    "    group_df = pd.read_csv(f, sep=\"|\", header=None)\n",
    "\n",
    "full_names = {}\n",
    "for abbrev, name in group_df[[0,1]].itertuples(index=False):\n",
    "    if abbrev not in full_names.keys():\n",
    "        full_names[abbrev] = name.upper()"
   ]
  },
  {
   "cell_type": "code",
   "execution_count": 3,
   "id": "37c06acd",
   "metadata": {},
   "outputs": [],
   "source": [
    "total_distrib = {}\n",
    "tokens = []\n",
    "\n",
    "for filename in os.listdir(ARTICLES_PATH):\n",
    "    \n",
    "    with open(os.path.join(ARTICLES_PATH, filename, \"entities.csv\"), \"r\") as f:\n",
    "        entities_df = pd.read_csv(f).drop(\"Unnamed: 0\", axis=1)\n",
    "    \n",
    "    for i, v in entities_df[\"Type\"].value_counts().iteritems():\n",
    "        if i == \"ENTITY\":\n",
    "            i = \"UNDEF\"\n",
    "        elif i in full_names.keys():\n",
    "            i = full_names[i]\n",
    "        if i not in total_distrib.keys():\n",
    "            total_distrib[i] = v\n",
    "        else:\n",
    "            total_distrib[i] += v\n",
    "    \n",
    "    tokens += list(entities_df[\"Word\"].astype(str).values)\n",
    "\n",
    "list_distrib = []\n",
    "for name, v in total_distrib.items():\n",
    "    list_distrib.append({\"group\": name, \"frequency\": v})"
   ]
  },
  {
   "cell_type": "code",
   "execution_count": 4,
   "id": "d7b99684",
   "metadata": {},
   "outputs": [],
   "source": [
    "counted = Counter(tokens)\n",
    "counted_2 = Counter(ngrams(tokens, 2))\n",
    "counted_3 = Counter(ngrams(tokens, 3))\n",
    "\n",
    "word_freq = pd.DataFrame(counted.items(), columns=['word', 'frequency']).sort_values(by='frequency', ascending=False)\n",
    "word_pairs = pd.DataFrame(counted_2.items(),columns=['pairs', 'frequency']).sort_values(by='frequency', ascending=False)\n",
    "trigrams = pd.DataFrame(counted_3.items(), columns=['trigrams', 'frequency']).sort_values(by='frequency', ascending=False)"
   ]
  },
  {
   "cell_type": "code",
   "execution_count": 5,
   "id": "49b0a5a9",
   "metadata": {},
   "outputs": [
    {
     "data": {
      "text/plain": [
       "array(['00', '000', '00001', ..., 'πrd', 'χ2', 'ᶧproblem'], dtype=object)"
      ]
     },
     "execution_count": 5,
     "metadata": {},
     "output_type": "execute_result"
    }
   ],
   "source": [
    "from sklearn.feature_extraction.text import TfidfVectorizer\n",
    "\n",
    "vectorizer = TfidfVectorizer()\n",
    "X = vectorizer.fit_transform(tokens)\n",
    "vectorizer.get_feature_names_out()"
   ]
  },
  {
   "cell_type": "code",
   "execution_count": 6,
   "id": "bc72d275",
   "metadata": {},
   "outputs": [
    {
     "data": {
      "text/plain": [
       "(151162, 10793)"
      ]
     },
     "execution_count": 6,
     "metadata": {},
     "output_type": "execute_result"
    }
   ],
   "source": [
    "X.shape"
   ]
  },
  {
   "cell_type": "code",
   "execution_count": null,
   "id": "65048e6e",
   "metadata": {},
   "outputs": [],
   "source": []
  }
 ],
 "metadata": {
  "kernelspec": {
   "display_name": "Python 3 (ipykernel)",
   "language": "python",
   "name": "python3"
  },
  "language_info": {
   "codemirror_mode": {
    "name": "ipython",
    "version": 3
   },
   "file_extension": ".py",
   "mimetype": "text/x-python",
   "name": "python",
   "nbconvert_exporter": "python",
   "pygments_lexer": "ipython3",
   "version": "3.10.4"
  }
 },
 "nbformat": 4,
 "nbformat_minor": 5
}
