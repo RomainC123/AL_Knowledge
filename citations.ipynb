{
 "cells": [
  {
   "cell_type": "code",
   "execution_count": 74,
   "id": "d86898c5",
   "metadata": {},
   "outputs": [],
   "source": [
    "import os\n",
    "import time\n",
    "from datetime import datetime\n",
    "\n",
    "import pickle\n",
    "\n",
    "from tqdm.auto import tqdm\n",
    "\n",
    "from src.constants import *\n",
    "\n",
    "import pandas as pd\n",
    "import requests\n",
    "from bs4 import BeautifulSoup"
   ]
  },
  {
   "cell_type": "code",
   "execution_count": 7,
   "id": "c41350dd",
   "metadata": {},
   "outputs": [],
   "source": [
    "def _pget(url, stream=False):\n",
    "    \"\"\"\n",
    "    Acounts for network errors in   getting a request (Pubmed often appears offline, but not for long periods of time)\n",
    "    Retries every 2 seconds for 60 seconds and then gives up\n",
    "    \"\"\"\n",
    "    downloaded = False\n",
    "    count = 0\n",
    "\n",
    "    while not downloaded and count < 60:\n",
    "        try:\n",
    "            page = requests.get(url, stream=stream)\n",
    "            downloaded = True\n",
    "        except:\n",
    "            print(url + f\" - Network error, retrying... ({count + 1})\")\n",
    "            time.sleep(2)\n",
    "            count += 1\n",
    "                \n",
    "    if page != None:\n",
    "        return page\n",
    "    else:\n",
    "        raise ValueError"
   ]
  },
  {
   "cell_type": "code",
   "execution_count": 8,
   "id": "87652f8f",
   "metadata": {},
   "outputs": [],
   "source": [
    "def _get_search_matches(search_terms, max_page_num=5):\n",
    "    \"\"\"\n",
    "    Gets all of the ids of articles matching a given list of search terms\n",
    "    Optionnaly, set a max number of pages to search through (10 articles per page)\n",
    "    Selenium not used here\n",
    "    \"\"\"\n",
    "    # Filtering out every non English match\n",
    "    search_url = \"https://pubmed.ncbi.nlm.nih.gov/?term=\" + '+'.join(search_terms) + '&filter=lang.english'\n",
    "    full_search_ids = []\n",
    "\n",
    "    # Grabs every page\n",
    "    page_num = 0\n",
    "    while (max_page_num and page_num < max_page_num) or not max_page_num:\n",
    "        page_num += 1\n",
    "        if page_num != 1:\n",
    "            page_url = search_url + \"&page=\" + str(page_num)\n",
    "        else:\n",
    "            page_url = search_url\n",
    "        try:\n",
    "            page = _pget(page_url)\n",
    "            page_soup = BeautifulSoup(page.text, features=\"lxml\")\n",
    "            page_ids = page_soup.find(\"div\", {\"class\": \"search-results-chunk results-chunk\"}\n",
    "                                     ).get(\"data-chunk-ids\").split(\",\")\n",
    "            full_search_ids += page_ids\n",
    "        except AttributeError:\n",
    "            break\n",
    "\n",
    "    # Saving the results\n",
    "    return full_search_ids"
   ]
  },
  {
   "cell_type": "code",
   "execution_count": 4,
   "id": "25cbe62f",
   "metadata": {},
   "outputs": [],
   "source": [
    "search_matches_ids = _get_search_matches([\"Anastomotic\", \"Leaks\"])"
   ]
  },
  {
   "cell_type": "code",
   "execution_count": 12,
   "id": "8bdcc9b9",
   "metadata": {},
   "outputs": [
    {
     "data": {
      "application/json": {
       "ascii": false,
       "bar_format": null,
       "colour": null,
       "elapsed": 0.02367258071899414,
       "initial": 0,
       "n": 0,
       "ncols": null,
       "nrows": 24,
       "postfix": null,
       "prefix": "",
       "rate": null,
       "total": 50,
       "unit": "it",
       "unit_divisor": 1000,
       "unit_scale": false
      },
      "application/vnd.jupyter.widget-view+json": {
       "model_id": "f21eb85cae4f4920bca23fd772820169",
       "version_major": 2,
       "version_minor": 0
      },
      "text/plain": [
       "  0%|          | 0/50 [00:00<?, ?it/s]"
      ]
     },
     "metadata": {},
     "output_type": "display_data"
    }
   ],
   "source": [
    "articles_list = []\n",
    "\n",
    "for article_id in tqdm(search_matches_ids):\n",
    "    \n",
    "    url = \"https://pubmed.ncbi.nlm.nih.gov/\" + str(article_id)\n",
    "    \n",
    "    with requests.get(url) as r:\n",
    "        soup = BeautifulSoup(r.text, \"html.parser\")\n",
    "    \n",
    "    citations_ids = []\n",
    "    citedby = soup.find(\"div\", {\"class\": \"citedby-articles\"})\n",
    "    if citedby:\n",
    "        for a in citedby.find_all(\"a\", {\"class\": \"docsum-title\"}):\n",
    "            citations_ids.append(a[\"data-ga-action\"])\n",
    "    \n",
    "    try:\n",
    "        date_text = soup.find(\"div\", {\"class\": \"article-source\"}).find(\"span\", {\"class\": \"cit\"}).text.split(\";\")[0]\n",
    "        date_text = \" \".join(date_text.split(\" \")[:2])\n",
    "        date = datetime.strptime(date_text, \"%Y %b\")\n",
    "    except:\n",
    "        date = \"Undef\"\n",
    "    \n",
    "    articles_list.append({\"ID\": article_id,\n",
    "                          \"Publication Date\": date,\n",
    "                          \"Citations ID\": citations_ids})"
   ]
  },
  {
   "cell_type": "code",
   "execution_count": 13,
   "id": "a04da4e8",
   "metadata": {},
   "outputs": [],
   "source": [
    "citations_df = pd.DataFrame(articles_list).set_index(\"ID\")"
   ]
  },
  {
   "cell_type": "code",
   "execution_count": 19,
   "id": "3d676e60",
   "metadata": {},
   "outputs": [
    {
     "name": "stdout",
     "output_type": "stream",
     "text": [
      "['Marie Černá', 'Martin Köcher', 'Vlastimil Válek', 'René Aujeský', 'Čestmír Neoral', 'Tomáš Andrašina', 'Jiří Pánek', 'Shankari Mahathmakanthi']\n"
     ]
    }
   ],
   "source": [
    "article_id = 21213108\n",
    "\n",
    "url = \"https://pubmed.ncbi.nlm.nih.gov/\" + str(article_id)\n",
    "   \n",
    "pubmed_page = _pget(url)\n",
    "pubmed_soup = BeautifulSoup(pubmed_page.text, features=\"lxml\")\n",
    "\n",
    "author_names = []\n",
    "authors_soup_list = pubmed_soup.find(\"div\", {\"class\": \"inline-authors\"}\n",
    "                                    ).find_all(\"span\", {\"class\": \"authors-list-item\"})\n",
    "for author_soup in authors_soup_list:\n",
    "    author_soup = author_soup.find(\"a\", {\"class\": \"full-name\"})\n",
    "    author_names.append(author_soup[\"data-ga-label\"])\n",
    "print(author_names)"
   ]
  },
  {
   "cell_type": "code",
   "execution_count": 18,
   "id": "dceea04a",
   "metadata": {},
   "outputs": [
    {
     "data": {
      "text/plain": [
       "<span class=\"authors-list-item\"><a class=\"full-name\" data-ga-action=\"author_link\" data-ga-category=\"search\" data-ga-label=\"Marie Černá\" href=\"/?term=%C4%8Cern%C3%A1+M&amp;cauthor_id=21213108\" ref=\"linksrc=author_name_link\">Marie Černá</a><sup class=\"affiliation-links\"><span class=\"author-sup-separator\"> </span><a class=\"affiliation-link\" href=\"#affiliation-1\" ref=\"linksrc=author_aff\" title=\"Department of Radiology, University Hospital, I. P. Pavlova 6, 775 20 Olomouc, Czech Republic.\">\n",
       "                1\n",
       "              </a></sup><span class=\"comma\">, </span></span>"
      ]
     },
     "execution_count": 18,
     "metadata": {},
     "output_type": "execute_result"
    }
   ],
   "source": [
    "authors_soup_list[0]"
   ]
  },
  {
   "cell_type": "code",
   "execution_count": 85,
   "id": "abea771b",
   "metadata": {},
   "outputs": [],
   "source": [
    "def reformat_authors(list_str):\n",
    "    list_formated = list_str[1:-1].split(\", \")\n",
    "    if len(list_formated) == 1 and list_formated[0] == '':\n",
    "        return []\n",
    "    else:\n",
    "        for i in range(len(list_formated)):\n",
    "            list_formated[i] = list_formated[i][1:-1]\n",
    "        return list_formated\n",
    "    \n",
    "def reformat_date(date_str):\n",
    "    if date_str != \"Undef\":\n",
    "        return datetime.strptime(date_str, \"%Y-%m-%d %H:%M:%S\")\n",
    "    else:\n",
    "        return date_str\n",
    "\n",
    "def reformat_citations(list_str):\n",
    "    list_formated = list_str[1:-1].split(\", \")\n",
    "    if len(list_formated) == 1 and list_formated[0] == '':\n",
    "        return []\n",
    "    else:\n",
    "        for i in range(len(list_formated)):\n",
    "            list_formated[i] = int(list_formated[i][1:-1])\n",
    "        return list_formated"
   ]
  },
  {
   "cell_type": "code",
   "execution_count": 86,
   "id": "95ec7523",
   "metadata": {},
   "outputs": [],
   "source": [
    "with open(os.path.join(DATA_PATH, \"citations_full.csv\"), \"r\") as f:\n",
    "    citations_df = pd.read_csv(f, sep='|')\n",
    "\n",
    "citations_df[\"ID\"] = citations_df[\"ID\"].apply(lambda x: int(x))\n",
    "citations_df[\"Authors\"] = citations_df[\"Authors\"].apply(reformat_authors)\n",
    "citations_df[\"Date\"] = citations_df[\"Date\"].apply(reformat_date)\n",
    "citations_df[\"Citations\"] = citations_df[\"Citations\"].apply(reformat_citations)\n",
    "citations_df = citations_df.set_index(\"ID\")"
   ]
  },
  {
   "cell_type": "code",
   "execution_count": 87,
   "id": "f4611f0c",
   "metadata": {},
   "outputs": [
    {
     "data": {
      "text/html": [
       "<div>\n",
       "<style scoped>\n",
       "    .dataframe tbody tr th:only-of-type {\n",
       "        vertical-align: middle;\n",
       "    }\n",
       "\n",
       "    .dataframe tbody tr th {\n",
       "        vertical-align: top;\n",
       "    }\n",
       "\n",
       "    .dataframe thead th {\n",
       "        text-align: right;\n",
       "    }\n",
       "</style>\n",
       "<table border=\"1\" class=\"dataframe\">\n",
       "  <thead>\n",
       "    <tr style=\"text-align: right;\">\n",
       "      <th></th>\n",
       "      <th>Authors</th>\n",
       "      <th>Date</th>\n",
       "      <th>Citations</th>\n",
       "    </tr>\n",
       "    <tr>\n",
       "      <th>ID</th>\n",
       "      <th></th>\n",
       "      <th></th>\n",
       "      <th></th>\n",
       "    </tr>\n",
       "  </thead>\n",
       "  <tbody>\n",
       "    <tr>\n",
       "      <th>34100248</th>\n",
       "      <td>[John C Alverdy, Hans Martin Schardey]</td>\n",
       "      <td>2021-11-01 00:00:00</td>\n",
       "      <td>[35764831]</td>\n",
       "    </tr>\n",
       "    <tr>\n",
       "      <th>32139117</th>\n",
       "      <td>[Caterina Foppa, Siew Chien Ng, Marco Montorsi...</td>\n",
       "      <td>2020-06-01 00:00:00</td>\n",
       "      <td>[35955993, 35915290, 35733511, 35535032, 35421...</td>\n",
       "    </tr>\n",
       "    <tr>\n",
       "      <th>32671825</th>\n",
       "      <td>[B D Stephensen, F Reid, S Shaikh, R Carroll, ...</td>\n",
       "      <td>2020-12-01 00:00:00</td>\n",
       "      <td>[35986864, 35657137, 35151339, 35024926, 34988...</td>\n",
       "    </tr>\n",
       "    <tr>\n",
       "      <th>33565590</th>\n",
       "      <td>[Antonio Barbaro, Thomas A Eldredge, Jonathan ...</td>\n",
       "      <td>2021-02-01 00:00:00</td>\n",
       "      <td>[35015134]</td>\n",
       "    </tr>\n",
       "    <tr>\n",
       "      <th>32012414</th>\n",
       "      <td>[K Stormark, P-M Krarup, A Sjövall, K Søreide,...</td>\n",
       "      <td>2020-09-01 00:00:00</td>\n",
       "      <td>[35955993, 34063108, 32795348]</td>\n",
       "    </tr>\n",
       "    <tr>\n",
       "      <th>...</th>\n",
       "      <td>...</td>\n",
       "      <td>...</td>\n",
       "      <td>...</td>\n",
       "    </tr>\n",
       "    <tr>\n",
       "      <th>33089382</th>\n",
       "      <td>[Roberto Cirocchi, Georgi Popivanov, Marina Ko...</td>\n",
       "      <td>2021-05-01 00:00:00</td>\n",
       "      <td>[35056340, 34750614, 34557938, 34150837, 33727...</td>\n",
       "    </tr>\n",
       "    <tr>\n",
       "      <th>31352419</th>\n",
       "      <td>[Matthew James Lee, Adele E Sayers, Thomas M D...</td>\n",
       "      <td>2019-07-01 00:00:00</td>\n",
       "      <td>[35928981, 35585034, 35493630, 35238117, 34922...</td>\n",
       "    </tr>\n",
       "    <tr>\n",
       "      <th>31559948</th>\n",
       "      <td>[Jane Nixon, Sarah Brown, Isabelle L Smith, El...</td>\n",
       "      <td>2019-09-01 00:00:00</td>\n",
       "      <td>[34097765, 34097764, 33999463, 33969911, 33969...</td>\n",
       "    </tr>\n",
       "    <tr>\n",
       "      <th>28913968</th>\n",
       "      <td>[2015 European Society of Coloproctology colla...</td>\n",
       "      <td>2017-09-01 00:00:00</td>\n",
       "      <td>[35913516, 35592128, 34518869, 32215559, 32172...</td>\n",
       "    </tr>\n",
       "    <tr>\n",
       "      <th>31595986</th>\n",
       "      <td>[EuroSurg Collaborative]</td>\n",
       "      <td>2020-01-01 00:00:00</td>\n",
       "      <td>[35179188, 35048492, 34720528, 34273095, 33609...</td>\n",
       "    </tr>\n",
       "  </tbody>\n",
       "</table>\n",
       "<p>7867 rows × 3 columns</p>\n",
       "</div>"
      ],
      "text/plain": [
       "                                                    Authors  \\\n",
       "ID                                                            \n",
       "34100248             [John C Alverdy, Hans Martin Schardey]   \n",
       "32139117  [Caterina Foppa, Siew Chien Ng, Marco Montorsi...   \n",
       "32671825  [B D Stephensen, F Reid, S Shaikh, R Carroll, ...   \n",
       "33565590  [Antonio Barbaro, Thomas A Eldredge, Jonathan ...   \n",
       "32012414  [K Stormark, P-M Krarup, A Sjövall, K Søreide,...   \n",
       "...                                                     ...   \n",
       "33089382  [Roberto Cirocchi, Georgi Popivanov, Marina Ko...   \n",
       "31352419  [Matthew James Lee, Adele E Sayers, Thomas M D...   \n",
       "31559948  [Jane Nixon, Sarah Brown, Isabelle L Smith, El...   \n",
       "28913968  [2015 European Society of Coloproctology colla...   \n",
       "31595986                           [EuroSurg Collaborative]   \n",
       "\n",
       "                         Date  \\\n",
       "ID                              \n",
       "34100248  2021-11-01 00:00:00   \n",
       "32139117  2020-06-01 00:00:00   \n",
       "32671825  2020-12-01 00:00:00   \n",
       "33565590  2021-02-01 00:00:00   \n",
       "32012414  2020-09-01 00:00:00   \n",
       "...                       ...   \n",
       "33089382  2021-05-01 00:00:00   \n",
       "31352419  2019-07-01 00:00:00   \n",
       "31559948  2019-09-01 00:00:00   \n",
       "28913968  2017-09-01 00:00:00   \n",
       "31595986  2020-01-01 00:00:00   \n",
       "\n",
       "                                                  Citations  \n",
       "ID                                                           \n",
       "34100248                                         [35764831]  \n",
       "32139117  [35955993, 35915290, 35733511, 35535032, 35421...  \n",
       "32671825  [35986864, 35657137, 35151339, 35024926, 34988...  \n",
       "33565590                                         [35015134]  \n",
       "32012414                     [35955993, 34063108, 32795348]  \n",
       "...                                                     ...  \n",
       "33089382  [35056340, 34750614, 34557938, 34150837, 33727...  \n",
       "31352419  [35928981, 35585034, 35493630, 35238117, 34922...  \n",
       "31559948  [34097765, 34097764, 33999463, 33969911, 33969...  \n",
       "28913968  [35913516, 35592128, 34518869, 32215559, 32172...  \n",
       "31595986  [35179188, 35048492, 34720528, 34273095, 33609...  \n",
       "\n",
       "[7867 rows x 3 columns]"
      ]
     },
     "execution_count": 87,
     "metadata": {},
     "output_type": "execute_result"
    }
   ],
   "source": [
    "citations_df"
   ]
  },
  {
   "cell_type": "code",
   "execution_count": null,
   "id": "9aaeff41",
   "metadata": {},
   "outputs": [],
   "source": []
  }
 ],
 "metadata": {
  "kernelspec": {
   "display_name": "Python 3 (ipykernel)",
   "language": "python",
   "name": "python3"
  },
  "language_info": {
   "codemirror_mode": {
    "name": "ipython",
    "version": 3
   },
   "file_extension": ".py",
   "mimetype": "text/x-python",
   "name": "python",
   "nbconvert_exporter": "python",
   "pygments_lexer": "ipython3",
   "version": "3.10.4"
  }
 },
 "nbformat": 4,
 "nbformat_minor": 5
}
